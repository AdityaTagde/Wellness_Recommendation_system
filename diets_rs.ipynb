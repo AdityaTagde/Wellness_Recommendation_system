{
 "cells": [
  {
   "cell_type": "code",
   "execution_count": 2,
   "id": "4a85e683-9d89-47e3-8fef-d1e75cd6e444",
   "metadata": {},
   "outputs": [],
   "source": [
    "import pandas as pd"
   ]
  },
  {
   "cell_type": "code",
   "execution_count": 3,
   "id": "4965f777-1a1c-4cb2-a9d4-6a024794f77b",
   "metadata": {},
   "outputs": [],
   "source": [
    "diets=pd.read_csv('All_Diets.csv')"
   ]
  },
  {
   "cell_type": "code",
   "execution_count": 4,
   "id": "0251862e-77ff-48e6-957a-617d04f66ade",
   "metadata": {},
   "outputs": [
    {
     "data": {
      "text/html": [
       "<div>\n",
       "<style scoped>\n",
       "    .dataframe tbody tr th:only-of-type {\n",
       "        vertical-align: middle;\n",
       "    }\n",
       "\n",
       "    .dataframe tbody tr th {\n",
       "        vertical-align: top;\n",
       "    }\n",
       "\n",
       "    .dataframe thead th {\n",
       "        text-align: right;\n",
       "    }\n",
       "</style>\n",
       "<table border=\"1\" class=\"dataframe\">\n",
       "  <thead>\n",
       "    <tr style=\"text-align: right;\">\n",
       "      <th></th>\n",
       "      <th>Diet_type</th>\n",
       "      <th>Recipe_name</th>\n",
       "      <th>Cuisine_type</th>\n",
       "      <th>Protein(g)</th>\n",
       "      <th>Carbs(g)</th>\n",
       "      <th>Fat(g)</th>\n",
       "      <th>Extraction_day</th>\n",
       "      <th>Extraction_time</th>\n",
       "    </tr>\n",
       "  </thead>\n",
       "  <tbody>\n",
       "    <tr>\n",
       "      <th>0</th>\n",
       "      <td>paleo</td>\n",
       "      <td>Bone Broth From 'Nom Nom Paleo'</td>\n",
       "      <td>american</td>\n",
       "      <td>5.22</td>\n",
       "      <td>1.29</td>\n",
       "      <td>3.20</td>\n",
       "      <td>2022-10-16</td>\n",
       "      <td>17:20:09</td>\n",
       "    </tr>\n",
       "    <tr>\n",
       "      <th>1</th>\n",
       "      <td>paleo</td>\n",
       "      <td>Paleo Effect Asian-Glazed Pork Sides, A Sweet ...</td>\n",
       "      <td>south east asian</td>\n",
       "      <td>181.55</td>\n",
       "      <td>28.62</td>\n",
       "      <td>146.14</td>\n",
       "      <td>2022-10-16</td>\n",
       "      <td>17:20:09</td>\n",
       "    </tr>\n",
       "    <tr>\n",
       "      <th>2</th>\n",
       "      <td>paleo</td>\n",
       "      <td>Paleo Pumpkin Pie</td>\n",
       "      <td>american</td>\n",
       "      <td>30.91</td>\n",
       "      <td>302.59</td>\n",
       "      <td>96.76</td>\n",
       "      <td>2022-10-16</td>\n",
       "      <td>17:20:09</td>\n",
       "    </tr>\n",
       "    <tr>\n",
       "      <th>3</th>\n",
       "      <td>paleo</td>\n",
       "      <td>Strawberry Guacamole recipes</td>\n",
       "      <td>mexican</td>\n",
       "      <td>9.62</td>\n",
       "      <td>75.78</td>\n",
       "      <td>59.89</td>\n",
       "      <td>2022-10-16</td>\n",
       "      <td>17:20:09</td>\n",
       "    </tr>\n",
       "    <tr>\n",
       "      <th>4</th>\n",
       "      <td>paleo</td>\n",
       "      <td>Asian Cauliflower Fried \"Rice\" From 'Nom Nom P...</td>\n",
       "      <td>chinese</td>\n",
       "      <td>39.84</td>\n",
       "      <td>54.08</td>\n",
       "      <td>71.55</td>\n",
       "      <td>2022-10-16</td>\n",
       "      <td>17:20:09</td>\n",
       "    </tr>\n",
       "  </tbody>\n",
       "</table>\n",
       "</div>"
      ],
      "text/plain": [
       "  Diet_type                                        Recipe_name  \\\n",
       "0     paleo                    Bone Broth From 'Nom Nom Paleo'   \n",
       "1     paleo  Paleo Effect Asian-Glazed Pork Sides, A Sweet ...   \n",
       "2     paleo                                  Paleo Pumpkin Pie   \n",
       "3     paleo                       Strawberry Guacamole recipes   \n",
       "4     paleo  Asian Cauliflower Fried \"Rice\" From 'Nom Nom P...   \n",
       "\n",
       "       Cuisine_type  Protein(g)  Carbs(g)  Fat(g) Extraction_day  \\\n",
       "0          american        5.22      1.29    3.20     2022-10-16   \n",
       "1  south east asian      181.55     28.62  146.14     2022-10-16   \n",
       "2          american       30.91    302.59   96.76     2022-10-16   \n",
       "3           mexican        9.62     75.78   59.89     2022-10-16   \n",
       "4           chinese       39.84     54.08   71.55     2022-10-16   \n",
       "\n",
       "  Extraction_time  \n",
       "0        17:20:09  \n",
       "1        17:20:09  \n",
       "2        17:20:09  \n",
       "3        17:20:09  \n",
       "4        17:20:09  "
      ]
     },
     "execution_count": 4,
     "metadata": {},
     "output_type": "execute_result"
    }
   ],
   "source": [
    "diets.head()"
   ]
  },
  {
   "cell_type": "code",
   "execution_count": 5,
   "id": "bc4067f8-b2a1-4449-83bb-6969db3315b4",
   "metadata": {},
   "outputs": [
    {
     "data": {
      "text/plain": [
       "Diet_type          0\n",
       "Recipe_name        0\n",
       "Cuisine_type       0\n",
       "Protein(g)         0\n",
       "Carbs(g)           0\n",
       "Fat(g)             0\n",
       "Extraction_day     0\n",
       "Extraction_time    0\n",
       "dtype: int64"
      ]
     },
     "execution_count": 5,
     "metadata": {},
     "output_type": "execute_result"
    }
   ],
   "source": [
    "diets.isnull().sum()"
   ]
  },
  {
   "cell_type": "code",
   "execution_count": 6,
   "id": "000cfef5-66ca-40f1-9b3a-95900d537d95",
   "metadata": {},
   "outputs": [
    {
     "data": {
      "text/plain": [
       "5"
      ]
     },
     "execution_count": 6,
     "metadata": {},
     "output_type": "execute_result"
    }
   ],
   "source": [
    "diets.duplicated().sum()"
   ]
  },
  {
   "cell_type": "code",
   "execution_count": 7,
   "id": "63da820a-0012-479c-8b01-4f2f35912f6e",
   "metadata": {},
   "outputs": [],
   "source": [
    "duplicates=diets[diets.duplicated()]"
   ]
  },
  {
   "cell_type": "code",
   "execution_count": 8,
   "id": "b55f48bb-3774-4297-a49e-28fcabbbc7d9",
   "metadata": {},
   "outputs": [
    {
     "data": {
      "text/html": [
       "<div>\n",
       "<style scoped>\n",
       "    .dataframe tbody tr th:only-of-type {\n",
       "        vertical-align: middle;\n",
       "    }\n",
       "\n",
       "    .dataframe tbody tr th {\n",
       "        vertical-align: top;\n",
       "    }\n",
       "\n",
       "    .dataframe thead th {\n",
       "        text-align: right;\n",
       "    }\n",
       "</style>\n",
       "<table border=\"1\" class=\"dataframe\">\n",
       "  <thead>\n",
       "    <tr style=\"text-align: right;\">\n",
       "      <th></th>\n",
       "      <th>Diet_type</th>\n",
       "      <th>Recipe_name</th>\n",
       "      <th>Cuisine_type</th>\n",
       "      <th>Protein(g)</th>\n",
       "      <th>Carbs(g)</th>\n",
       "      <th>Fat(g)</th>\n",
       "      <th>Extraction_day</th>\n",
       "      <th>Extraction_time</th>\n",
       "    </tr>\n",
       "  </thead>\n",
       "  <tbody>\n",
       "    <tr>\n",
       "      <th>2778</th>\n",
       "      <td>vegan</td>\n",
       "      <td>Strawberry Rhubarb Jam {Vegan}</td>\n",
       "      <td>american</td>\n",
       "      <td>2.48</td>\n",
       "      <td>155.82</td>\n",
       "      <td>22.73</td>\n",
       "      <td>2022-10-16</td>\n",
       "      <td>20:13:34</td>\n",
       "    </tr>\n",
       "    <tr>\n",
       "      <th>2789</th>\n",
       "      <td>vegan</td>\n",
       "      <td>Strawberry Rhubarb Jam {Vegan}</td>\n",
       "      <td>american</td>\n",
       "      <td>2.48</td>\n",
       "      <td>155.82</td>\n",
       "      <td>22.73</td>\n",
       "      <td>2022-10-16</td>\n",
       "      <td>20:13:40</td>\n",
       "    </tr>\n",
       "    <tr>\n",
       "      <th>4338</th>\n",
       "      <td>mediterranean</td>\n",
       "      <td>Mediterranean Marinade</td>\n",
       "      <td>mediterranean</td>\n",
       "      <td>1.50</td>\n",
       "      <td>12.79</td>\n",
       "      <td>68.75</td>\n",
       "      <td>2022-10-16</td>\n",
       "      <td>16:43:20</td>\n",
       "    </tr>\n",
       "    <tr>\n",
       "      <th>4412</th>\n",
       "      <td>mediterranean</td>\n",
       "      <td>Mediterranean Grain Salad</td>\n",
       "      <td>mediterranean</td>\n",
       "      <td>14.02</td>\n",
       "      <td>48.13</td>\n",
       "      <td>16.24</td>\n",
       "      <td>2022-10-16</td>\n",
       "      <td>16:43:47</td>\n",
       "    </tr>\n",
       "    <tr>\n",
       "      <th>5184</th>\n",
       "      <td>mediterranean</td>\n",
       "      <td>Mediterranean Dip</td>\n",
       "      <td>mediterranean</td>\n",
       "      <td>21.71</td>\n",
       "      <td>40.46</td>\n",
       "      <td>32.12</td>\n",
       "      <td>2022-10-16</td>\n",
       "      <td>16:48:18</td>\n",
       "    </tr>\n",
       "  </tbody>\n",
       "</table>\n",
       "</div>"
      ],
      "text/plain": [
       "          Diet_type                     Recipe_name   Cuisine_type  \\\n",
       "2778          vegan  Strawberry Rhubarb Jam {Vegan}       american   \n",
       "2789          vegan  Strawberry Rhubarb Jam {Vegan}       american   \n",
       "4338  mediterranean          Mediterranean Marinade  mediterranean   \n",
       "4412  mediterranean       Mediterranean Grain Salad  mediterranean   \n",
       "5184  mediterranean               Mediterranean Dip  mediterranean   \n",
       "\n",
       "      Protein(g)  Carbs(g)  Fat(g) Extraction_day Extraction_time  \n",
       "2778        2.48    155.82   22.73     2022-10-16        20:13:34  \n",
       "2789        2.48    155.82   22.73     2022-10-16        20:13:40  \n",
       "4338        1.50     12.79   68.75     2022-10-16        16:43:20  \n",
       "4412       14.02     48.13   16.24     2022-10-16        16:43:47  \n",
       "5184       21.71     40.46   32.12     2022-10-16        16:48:18  "
      ]
     },
     "execution_count": 8,
     "metadata": {},
     "output_type": "execute_result"
    }
   ],
   "source": [
    "duplicates"
   ]
  },
  {
   "cell_type": "code",
   "execution_count": 9,
   "id": "426e2929-5cd4-42f0-9e89-bef685ed21dd",
   "metadata": {},
   "outputs": [],
   "source": [
    "diets= diets.drop_duplicates(subset=['Diet_type', 'Recipe_name', 'Cuisine_type', 'Protein(g)', 'Carbs(g)', 'Fat(g)', 'Extraction_day'], keep='first')"
   ]
  },
  {
   "cell_type": "code",
   "execution_count": 10,
   "id": "a5ca6649-04ed-4284-b5d2-9a9cf60356e4",
   "metadata": {},
   "outputs": [
    {
     "name": "stdout",
     "output_type": "stream",
     "text": [
      "(7693, 8)\n"
     ]
    }
   ],
   "source": [
    "print(diets.shape)"
   ]
  },
  {
   "cell_type": "code",
   "execution_count": 11,
   "id": "aa83c913-f17d-42af-9b2a-614f47187da4",
   "metadata": {},
   "outputs": [],
   "source": [
    "diet_df = diets.drop(columns=[\"Extraction_day\", \"Extraction_time\"])"
   ]
  },
  {
   "cell_type": "code",
   "execution_count": 12,
   "id": "8439b552-e7f1-4fa8-a99b-2dac9260c152",
   "metadata": {},
   "outputs": [
    {
     "data": {
      "text/html": [
       "<div>\n",
       "<style scoped>\n",
       "    .dataframe tbody tr th:only-of-type {\n",
       "        vertical-align: middle;\n",
       "    }\n",
       "\n",
       "    .dataframe tbody tr th {\n",
       "        vertical-align: top;\n",
       "    }\n",
       "\n",
       "    .dataframe thead th {\n",
       "        text-align: right;\n",
       "    }\n",
       "</style>\n",
       "<table border=\"1\" class=\"dataframe\">\n",
       "  <thead>\n",
       "    <tr style=\"text-align: right;\">\n",
       "      <th></th>\n",
       "      <th>Diet_type</th>\n",
       "      <th>Recipe_name</th>\n",
       "      <th>Cuisine_type</th>\n",
       "      <th>Protein(g)</th>\n",
       "      <th>Carbs(g)</th>\n",
       "      <th>Fat(g)</th>\n",
       "    </tr>\n",
       "  </thead>\n",
       "  <tbody>\n",
       "    <tr>\n",
       "      <th>0</th>\n",
       "      <td>paleo</td>\n",
       "      <td>Bone Broth From 'Nom Nom Paleo'</td>\n",
       "      <td>american</td>\n",
       "      <td>5.22</td>\n",
       "      <td>1.29</td>\n",
       "      <td>3.20</td>\n",
       "    </tr>\n",
       "    <tr>\n",
       "      <th>1</th>\n",
       "      <td>paleo</td>\n",
       "      <td>Paleo Effect Asian-Glazed Pork Sides, A Sweet ...</td>\n",
       "      <td>south east asian</td>\n",
       "      <td>181.55</td>\n",
       "      <td>28.62</td>\n",
       "      <td>146.14</td>\n",
       "    </tr>\n",
       "    <tr>\n",
       "      <th>2</th>\n",
       "      <td>paleo</td>\n",
       "      <td>Paleo Pumpkin Pie</td>\n",
       "      <td>american</td>\n",
       "      <td>30.91</td>\n",
       "      <td>302.59</td>\n",
       "      <td>96.76</td>\n",
       "    </tr>\n",
       "    <tr>\n",
       "      <th>3</th>\n",
       "      <td>paleo</td>\n",
       "      <td>Strawberry Guacamole recipes</td>\n",
       "      <td>mexican</td>\n",
       "      <td>9.62</td>\n",
       "      <td>75.78</td>\n",
       "      <td>59.89</td>\n",
       "    </tr>\n",
       "    <tr>\n",
       "      <th>4</th>\n",
       "      <td>paleo</td>\n",
       "      <td>Asian Cauliflower Fried \"Rice\" From 'Nom Nom P...</td>\n",
       "      <td>chinese</td>\n",
       "      <td>39.84</td>\n",
       "      <td>54.08</td>\n",
       "      <td>71.55</td>\n",
       "    </tr>\n",
       "  </tbody>\n",
       "</table>\n",
       "</div>"
      ],
      "text/plain": [
       "  Diet_type                                        Recipe_name  \\\n",
       "0     paleo                    Bone Broth From 'Nom Nom Paleo'   \n",
       "1     paleo  Paleo Effect Asian-Glazed Pork Sides, A Sweet ...   \n",
       "2     paleo                                  Paleo Pumpkin Pie   \n",
       "3     paleo                       Strawberry Guacamole recipes   \n",
       "4     paleo  Asian Cauliflower Fried \"Rice\" From 'Nom Nom P...   \n",
       "\n",
       "       Cuisine_type  Protein(g)  Carbs(g)  Fat(g)  \n",
       "0          american        5.22      1.29    3.20  \n",
       "1  south east asian      181.55     28.62  146.14  \n",
       "2          american       30.91    302.59   96.76  \n",
       "3           mexican        9.62     75.78   59.89  \n",
       "4           chinese       39.84     54.08   71.55  "
      ]
     },
     "execution_count": 12,
     "metadata": {},
     "output_type": "execute_result"
    }
   ],
   "source": [
    "diet_df.head()"
   ]
  },
  {
   "cell_type": "code",
   "execution_count": 16,
   "id": "62211103-fc9e-44a6-a810-8ca8452b6294",
   "metadata": {},
   "outputs": [],
   "source": [
    "from sklearn.feature_extraction.text import TfidfVectorizer\n",
    "from sklearn.metrics.pairwise import cosine_similarity"
   ]
  },
  {
   "cell_type": "code",
   "execution_count": 14,
   "id": "331f8217-264b-4ced-881f-162cc89b02eb",
   "metadata": {},
   "outputs": [],
   "source": [
    "diet_df['text_features']=diet_df['Recipe_name']+\" \"+diet_df['Cuisine_type']"
   ]
  },
  {
   "cell_type": "code",
   "execution_count": 15,
   "id": "e406ffd6-52ae-4dcf-83de-b911bae49db8",
   "metadata": {},
   "outputs": [
    {
     "data": {
      "text/html": [
       "<div>\n",
       "<style scoped>\n",
       "    .dataframe tbody tr th:only-of-type {\n",
       "        vertical-align: middle;\n",
       "    }\n",
       "\n",
       "    .dataframe tbody tr th {\n",
       "        vertical-align: top;\n",
       "    }\n",
       "\n",
       "    .dataframe thead th {\n",
       "        text-align: right;\n",
       "    }\n",
       "</style>\n",
       "<table border=\"1\" class=\"dataframe\">\n",
       "  <thead>\n",
       "    <tr style=\"text-align: right;\">\n",
       "      <th></th>\n",
       "      <th>Diet_type</th>\n",
       "      <th>Recipe_name</th>\n",
       "      <th>Cuisine_type</th>\n",
       "      <th>Protein(g)</th>\n",
       "      <th>Carbs(g)</th>\n",
       "      <th>Fat(g)</th>\n",
       "      <th>text_features</th>\n",
       "    </tr>\n",
       "  </thead>\n",
       "  <tbody>\n",
       "    <tr>\n",
       "      <th>0</th>\n",
       "      <td>paleo</td>\n",
       "      <td>Bone Broth From 'Nom Nom Paleo'</td>\n",
       "      <td>american</td>\n",
       "      <td>5.22</td>\n",
       "      <td>1.29</td>\n",
       "      <td>3.20</td>\n",
       "      <td>Bone Broth From 'Nom Nom Paleo' american</td>\n",
       "    </tr>\n",
       "    <tr>\n",
       "      <th>1</th>\n",
       "      <td>paleo</td>\n",
       "      <td>Paleo Effect Asian-Glazed Pork Sides, A Sweet ...</td>\n",
       "      <td>south east asian</td>\n",
       "      <td>181.55</td>\n",
       "      <td>28.62</td>\n",
       "      <td>146.14</td>\n",
       "      <td>Paleo Effect Asian-Glazed Pork Sides, A Sweet ...</td>\n",
       "    </tr>\n",
       "    <tr>\n",
       "      <th>2</th>\n",
       "      <td>paleo</td>\n",
       "      <td>Paleo Pumpkin Pie</td>\n",
       "      <td>american</td>\n",
       "      <td>30.91</td>\n",
       "      <td>302.59</td>\n",
       "      <td>96.76</td>\n",
       "      <td>Paleo Pumpkin Pie american</td>\n",
       "    </tr>\n",
       "    <tr>\n",
       "      <th>3</th>\n",
       "      <td>paleo</td>\n",
       "      <td>Strawberry Guacamole recipes</td>\n",
       "      <td>mexican</td>\n",
       "      <td>9.62</td>\n",
       "      <td>75.78</td>\n",
       "      <td>59.89</td>\n",
       "      <td>Strawberry Guacamole recipes mexican</td>\n",
       "    </tr>\n",
       "    <tr>\n",
       "      <th>4</th>\n",
       "      <td>paleo</td>\n",
       "      <td>Asian Cauliflower Fried \"Rice\" From 'Nom Nom P...</td>\n",
       "      <td>chinese</td>\n",
       "      <td>39.84</td>\n",
       "      <td>54.08</td>\n",
       "      <td>71.55</td>\n",
       "      <td>Asian Cauliflower Fried \"Rice\" From 'Nom Nom P...</td>\n",
       "    </tr>\n",
       "    <tr>\n",
       "      <th>...</th>\n",
       "      <td>...</td>\n",
       "      <td>...</td>\n",
       "      <td>...</td>\n",
       "      <td>...</td>\n",
       "      <td>...</td>\n",
       "      <td>...</td>\n",
       "      <td>...</td>\n",
       "    </tr>\n",
       "    <tr>\n",
       "      <th>7786</th>\n",
       "      <td>dash</td>\n",
       "      <td>Brown Butter-Sunchoke Soup With Brussels Sprou...</td>\n",
       "      <td>italian</td>\n",
       "      <td>85.20</td>\n",
       "      <td>288.14</td>\n",
       "      <td>137.15</td>\n",
       "      <td>Brown Butter-Sunchoke Soup With Brussels Sprou...</td>\n",
       "    </tr>\n",
       "    <tr>\n",
       "      <th>7787</th>\n",
       "      <td>dash</td>\n",
       "      <td>Make-Your-Own-Salad</td>\n",
       "      <td>american</td>\n",
       "      <td>141.98</td>\n",
       "      <td>123.18</td>\n",
       "      <td>323.50</td>\n",
       "      <td>Make-Your-Own-Salad american</td>\n",
       "    </tr>\n",
       "    <tr>\n",
       "      <th>7788</th>\n",
       "      <td>dash</td>\n",
       "      <td>Luis Buñuel Dry Martini</td>\n",
       "      <td>world</td>\n",
       "      <td>0.01</td>\n",
       "      <td>0.39</td>\n",
       "      <td>0.00</td>\n",
       "      <td>Luis Buñuel Dry Martini world</td>\n",
       "    </tr>\n",
       "    <tr>\n",
       "      <th>7789</th>\n",
       "      <td>dash</td>\n",
       "      <td>Cornflake Semi-Fried Chicken Tenders</td>\n",
       "      <td>american</td>\n",
       "      <td>155.38</td>\n",
       "      <td>239.88</td>\n",
       "      <td>260.84</td>\n",
       "      <td>Cornflake Semi-Fried Chicken Tenders american</td>\n",
       "    </tr>\n",
       "    <tr>\n",
       "      <th>7790</th>\n",
       "      <td>dash</td>\n",
       "      <td>Emeril's Classic Manhattan</td>\n",
       "      <td>american</td>\n",
       "      <td>0.02</td>\n",
       "      <td>0.83</td>\n",
       "      <td>0.00</td>\n",
       "      <td>Emeril's Classic Manhattan american</td>\n",
       "    </tr>\n",
       "  </tbody>\n",
       "</table>\n",
       "<p>7693 rows × 7 columns</p>\n",
       "</div>"
      ],
      "text/plain": [
       "     Diet_type                                        Recipe_name  \\\n",
       "0        paleo                    Bone Broth From 'Nom Nom Paleo'   \n",
       "1        paleo  Paleo Effect Asian-Glazed Pork Sides, A Sweet ...   \n",
       "2        paleo                                  Paleo Pumpkin Pie   \n",
       "3        paleo                       Strawberry Guacamole recipes   \n",
       "4        paleo  Asian Cauliflower Fried \"Rice\" From 'Nom Nom P...   \n",
       "...        ...                                                ...   \n",
       "7786      dash  Brown Butter-Sunchoke Soup With Brussels Sprou...   \n",
       "7787      dash                                Make-Your-Own-Salad   \n",
       "7788      dash                            Luis Buñuel Dry Martini   \n",
       "7789      dash               Cornflake Semi-Fried Chicken Tenders   \n",
       "7790      dash                         Emeril's Classic Manhattan   \n",
       "\n",
       "          Cuisine_type  Protein(g)  Carbs(g)  Fat(g)  \\\n",
       "0             american        5.22      1.29    3.20   \n",
       "1     south east asian      181.55     28.62  146.14   \n",
       "2             american       30.91    302.59   96.76   \n",
       "3              mexican        9.62     75.78   59.89   \n",
       "4              chinese       39.84     54.08   71.55   \n",
       "...                ...         ...       ...     ...   \n",
       "7786           italian       85.20    288.14  137.15   \n",
       "7787          american      141.98    123.18  323.50   \n",
       "7788             world        0.01      0.39    0.00   \n",
       "7789          american      155.38    239.88  260.84   \n",
       "7790          american        0.02      0.83    0.00   \n",
       "\n",
       "                                          text_features  \n",
       "0              Bone Broth From 'Nom Nom Paleo' american  \n",
       "1     Paleo Effect Asian-Glazed Pork Sides, A Sweet ...  \n",
       "2                            Paleo Pumpkin Pie american  \n",
       "3                  Strawberry Guacamole recipes mexican  \n",
       "4     Asian Cauliflower Fried \"Rice\" From 'Nom Nom P...  \n",
       "...                                                 ...  \n",
       "7786  Brown Butter-Sunchoke Soup With Brussels Sprou...  \n",
       "7787                       Make-Your-Own-Salad american  \n",
       "7788                      Luis Buñuel Dry Martini world  \n",
       "7789      Cornflake Semi-Fried Chicken Tenders american  \n",
       "7790                Emeril's Classic Manhattan american  \n",
       "\n",
       "[7693 rows x 7 columns]"
      ]
     },
     "execution_count": 15,
     "metadata": {},
     "output_type": "execute_result"
    }
   ],
   "source": [
    "diet_df"
   ]
  },
  {
   "cell_type": "code",
   "execution_count": 17,
   "id": "704619fb-2a5a-4076-9328-ca7cd96e678a",
   "metadata": {},
   "outputs": [],
   "source": [
    "tfidf=TfidfVectorizer(stop_words='english')"
   ]
  },
  {
   "cell_type": "code",
   "execution_count": 18,
   "id": "cbea468e-2863-452c-8f32-4c2d70fb9ed4",
   "metadata": {},
   "outputs": [],
   "source": [
    "tfidf_matrix=tfidf.fit_transform(diet_df['text_features'])"
   ]
  },
  {
   "cell_type": "code",
   "execution_count": 22,
   "id": "0278b6f4-12c7-41ff-a4f4-661c8b42a120",
   "metadata": {},
   "outputs": [
    {
     "name": "stdout",
     "output_type": "stream",
     "text": [
      "  (0, 72)\t0.09559233255372172\n",
      "  (0, 2042)\t0.15171462397209187\n",
      "  (0, 1966)\t0.8045665577678015\n",
      "  (0, 356)\t0.37708886904668654\n",
      "  (0, 302)\t0.42228120700867927\n"
     ]
    }
   ],
   "source": [
    "print(tfidf_matrix[0])"
   ]
  },
  {
   "cell_type": "code",
   "execution_count": 23,
   "id": "c994714c-7d38-46d1-8bdc-5c5d8eb9e1ea",
   "metadata": {},
   "outputs": [],
   "source": [
    "cosine_sim = cosine_similarity(tfidf_matrix, tfidf_matrix)"
   ]
  },
  {
   "cell_type": "code",
   "execution_count": 24,
   "id": "7e559c45-8ed8-4b2f-94e8-be66faf5d202",
   "metadata": {},
   "outputs": [],
   "source": [
    "import pickle "
   ]
  },
  {
   "cell_type": "code",
   "execution_count": 25,
   "id": "8306d2f2-1e60-41de-a82c-ab23a4c8bde2",
   "metadata": {},
   "outputs": [],
   "source": [
    "with open('diet_recommender.pkl','wb') as f :\n",
    "    pickle.dump((cosine_sim,tfidf,diet_df),f)"
   ]
  },
  {
   "cell_type": "code",
   "execution_count": null,
   "id": "c1a8205e-d22b-461b-a156-74a0be31d3da",
   "metadata": {},
   "outputs": [],
   "source": []
  }
 ],
 "metadata": {
  "kernelspec": {
   "display_name": "Python 3 (ipykernel)",
   "language": "python",
   "name": "python3"
  },
  "language_info": {
   "codemirror_mode": {
    "name": "ipython",
    "version": 3
   },
   "file_extension": ".py",
   "mimetype": "text/x-python",
   "name": "python",
   "nbconvert_exporter": "python",
   "pygments_lexer": "ipython3",
   "version": "3.8.20"
  }
 },
 "nbformat": 4,
 "nbformat_minor": 5
}
